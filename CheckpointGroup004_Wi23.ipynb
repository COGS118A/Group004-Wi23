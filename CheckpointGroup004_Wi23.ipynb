{
  "cells": [
    {
      "cell_type": "markdown",
      "metadata": {
        "id": "dNgQl3LF8dH4"
      },
      "source": [
        "# COGS 118A - Project Checkpoint"
      ]
    },
    {
      "cell_type": "markdown",
      "metadata": {
        "id": "d3ry0FN_8dH6"
      },
      "source": [
        "# Names\n",
        "\n",
        "- Zirui Lin\n",
        "- Ruoxin Li\n",
        "- Yunhan Xiao\n",
        "- Yongxi Liang\n",
        "- Ruoqian Huang\n"
      ]
    },
    {
      "cell_type": "markdown",
      "metadata": {
        "id": "dd6KQa5G8dIC"
      },
      "source": [
        "# Abstract \n",
        "Disease prediction has always been a critical and never-ending problem for the medical field - we will always need to be more precise in diagnosing diseases. Automated learning algorithms may help doctors alleviate some of the hassles. The main goal of this study was to determine the probability of a new patient developing heart disease based on existing data on heart disease characteristics. After preprocessing the data, we plan to train the computer using different machine learning methods (e.g., decision tree/logistic regression models vs. support vector classifiers, etc.) Our aim is for the model to successfully determine a heart attack (disease or not) in a subject when faced with a new set of data. We will quantify the performance of the models using various error metrics (e.g., precision, recall) for the results obtained - more importantly, due to the inherent sensitivity of heart disease, we will choose the best model according to the reality of the situation (e.g., we need to ensure the lowest non-detection rate) or we can replace/add new models as the project progresses / add new models.\n"
      ]
    },
    {
      "cell_type": "markdown",
      "metadata": {
        "id": "WyhyS8Iu8dIC"
      },
      "source": [
        "# Background\n",
        "\n",
        "Heart disease mainly refers to various diseases that occur in the heart and the surrounding vascular system, such as coronary heart disease, hypertension, cardiomyopathy, etc. These diseases have had a serious impact on health and longevity worldwide, and their morbidity and mortality rates have been increasing over the past few decades. With an aging population, unhealthy lifestyles and changing dietary habits, the incidence of heart disease has shown an increasing trend. According to the World Health Organization (WHO)<a name=\"lorenznote\"></a>[<sup>[1]</sup>](#lorenz), heart disease is one of the leading causes of death worldwide, killing approximately 18 million people each year. It is predicted that by 2035, heart disease will become one of the major global disease burdens, posing a serious threat to global public health.<br>\n",
        "\n",
        "Heart disease remains an extremely complex disease whose etiology is influenced by a combination of many factors, such as genetics, environment, and lifestyle. In addition, new risk factors have been identified in recent years, such as air pollution and mental stress. All of these factors may contribute to the development and aggravation of heart disease, thus increasing mortality. With the continuous advancement of technological techniques and methods in today's society, researchers can now study the pathogenesis and treatment of heart disease in greater depth through automated learning algorithms<a name=\"admonish\"></a>[<sup>[2]</sup>](#admonishnote). Automatic learning algorithms are a new technology that can automatically learn and analyze from large amounts of data and use it for prediction and judgment. In predicting heart disease, they can learn and build prediction models from clinical information of heart disease patients, which can be very helpful for doctors to more accurately understand the risk level of patients and develop effective treatment plans<a name=\"sota\"></a>[<sup>[3]</sup>](#sotanote). Moreover, by training a large number of clinical data from heart disease patients, features and patterns are extracted and prediction models are built. This allows us to predict the risk of heart disease in patients and to develop individualized treatment plans for patients based on the prediction results.<br>\n",
        "\n",
        "In conclusion, heart disease has seriously affected global health problems and requires the concerted efforts of medical researchers worldwide. Therefore, in-depth research of the causative factors and treatments of heart disease, and the search for powerful treatments and effective preventive measures can make an important contribution to reducing the incidence and mortality of heart disease.\n",
        "\n",
        "\n",
        "\n"
      ]
    },
    {
      "cell_type": "markdown",
      "metadata": {
        "id": "srifPaBM8dIC"
      },
      "source": [
        "# Problem Statement\n",
        "\n",
        "We aim to utilize machine learning algorithms for analyzing the current datasets, and train a predictive model that is most suitable to improve the accuracy of heart disease diagnosis based on the patient's various health indicators. Heart disease prediction model can help identify high-rish individuals which can lead to early intervention and treatment, ultimately preventing or delaying the onset of disease."
      ]
    },
    {
      "cell_type": "markdown",
      "metadata": {
        "id": "0YUuFKrt8dID"
      },
      "source": [
        "# Data\n",
        "\n",
        "**Heart disease Dataset**  <br>\n",
        "https://www.kaggle.com/datasets/kamilpytlak/personal-key-indicators-of-heart-disease<br>\n",
        "319795 observations with 18 variables<br>\n",
        "Critical variables:\n",
        "\n",
        "- HeartDisease\n",
        "- BMI\n",
        "- Smoking\n",
        "- Alcohol Drinking\n",
        "- Stroke\n",
        "- PhysicalHealth\n",
        "- MentalHealth\n",
        "- DiffWalking (climbing stairs)\n",
        "- Sex\n",
        "- AgeCategory\n",
        "- Race\n",
        "- Diabetic\n",
        "- PhysicalActivity\n",
        "- GenHealth\n",
        "- SleepTime\n",
        "- Asthma\n",
        "- KidneyDisease\n",
        "- SkinCancer\n",
        "\n",
        "This dataset was from 2020 annual CDC survey data of adults related to their health status."
      ]
    },
    {
      "cell_type": "code",
      "source": [
        "#import packages\n",
        "import pandas as pd\n",
        "import numpy as np\n",
        "import sklearn\n",
        "import matplotlib.pyplot as plt\n",
        "import statistics\n"
      ],
      "metadata": {
        "id": "S-XXSd_fhC7R"
      },
      "execution_count": null,
      "outputs": []
    },
    {
      "cell_type": "code",
      "source": [
        "dataset=pd.read_csv('heart_2020_cleaned.csv')\n",
        "dataset.head()"
      ],
      "metadata": {
        "colab": {
          "base_uri": "https://localhost:8080/",
          "height": 270
        },
        "id": "YO5wmGxThdvY",
        "outputId": "2a1e30ed-f86c-4dbc-b51b-28b658be9b21"
      },
      "execution_count": null,
      "outputs": [
        {
          "output_type": "execute_result",
          "data": {
            "text/plain": [
              "  HeartDisease    BMI Smoking AlcoholDrinking Stroke  PhysicalHealth  \\\n",
              "0           No  16.60     Yes              No     No             3.0   \n",
              "1           No  20.34      No              No    Yes             0.0   \n",
              "2           No  26.58     Yes              No     No            20.0   \n",
              "3           No  24.21      No              No     No             0.0   \n",
              "4           No  23.71      No              No     No            28.0   \n",
              "\n",
              "   MentalHealth DiffWalking     Sex  AgeCategory   Race Diabetic  \\\n",
              "0          30.0          No  Female        55-59  White      Yes   \n",
              "1           0.0          No  Female  80 or older  White       No   \n",
              "2          30.0          No    Male        65-69  White      Yes   \n",
              "3           0.0          No  Female        75-79  White       No   \n",
              "4           0.0         Yes  Female        40-44  White       No   \n",
              "\n",
              "  PhysicalActivity  GenHealth  SleepTime Asthma KidneyDisease SkinCancer  \n",
              "0              Yes  Very good        5.0    Yes            No        Yes  \n",
              "1              Yes  Very good        7.0     No            No         No  \n",
              "2              Yes       Fair        8.0    Yes            No         No  \n",
              "3               No       Good        6.0     No            No        Yes  \n",
              "4              Yes  Very good        8.0     No            No         No  "
            ],
            "text/html": [
              "\n",
              "  <div id=\"df-6448cc53-4f60-41a5-9f16-8d14658e8330\">\n",
              "    <div class=\"colab-df-container\">\n",
              "      <div>\n",
              "<style scoped>\n",
              "    .dataframe tbody tr th:only-of-type {\n",
              "        vertical-align: middle;\n",
              "    }\n",
              "\n",
              "    .dataframe tbody tr th {\n",
              "        vertical-align: top;\n",
              "    }\n",
              "\n",
              "    .dataframe thead th {\n",
              "        text-align: right;\n",
              "    }\n",
              "</style>\n",
              "<table border=\"1\" class=\"dataframe\">\n",
              "  <thead>\n",
              "    <tr style=\"text-align: right;\">\n",
              "      <th></th>\n",
              "      <th>HeartDisease</th>\n",
              "      <th>BMI</th>\n",
              "      <th>Smoking</th>\n",
              "      <th>AlcoholDrinking</th>\n",
              "      <th>Stroke</th>\n",
              "      <th>PhysicalHealth</th>\n",
              "      <th>MentalHealth</th>\n",
              "      <th>DiffWalking</th>\n",
              "      <th>Sex</th>\n",
              "      <th>AgeCategory</th>\n",
              "      <th>Race</th>\n",
              "      <th>Diabetic</th>\n",
              "      <th>PhysicalActivity</th>\n",
              "      <th>GenHealth</th>\n",
              "      <th>SleepTime</th>\n",
              "      <th>Asthma</th>\n",
              "      <th>KidneyDisease</th>\n",
              "      <th>SkinCancer</th>\n",
              "    </tr>\n",
              "  </thead>\n",
              "  <tbody>\n",
              "    <tr>\n",
              "      <th>0</th>\n",
              "      <td>No</td>\n",
              "      <td>16.60</td>\n",
              "      <td>Yes</td>\n",
              "      <td>No</td>\n",
              "      <td>No</td>\n",
              "      <td>3.0</td>\n",
              "      <td>30.0</td>\n",
              "      <td>No</td>\n",
              "      <td>Female</td>\n",
              "      <td>55-59</td>\n",
              "      <td>White</td>\n",
              "      <td>Yes</td>\n",
              "      <td>Yes</td>\n",
              "      <td>Very good</td>\n",
              "      <td>5.0</td>\n",
              "      <td>Yes</td>\n",
              "      <td>No</td>\n",
              "      <td>Yes</td>\n",
              "    </tr>\n",
              "    <tr>\n",
              "      <th>1</th>\n",
              "      <td>No</td>\n",
              "      <td>20.34</td>\n",
              "      <td>No</td>\n",
              "      <td>No</td>\n",
              "      <td>Yes</td>\n",
              "      <td>0.0</td>\n",
              "      <td>0.0</td>\n",
              "      <td>No</td>\n",
              "      <td>Female</td>\n",
              "      <td>80 or older</td>\n",
              "      <td>White</td>\n",
              "      <td>No</td>\n",
              "      <td>Yes</td>\n",
              "      <td>Very good</td>\n",
              "      <td>7.0</td>\n",
              "      <td>No</td>\n",
              "      <td>No</td>\n",
              "      <td>No</td>\n",
              "    </tr>\n",
              "    <tr>\n",
              "      <th>2</th>\n",
              "      <td>No</td>\n",
              "      <td>26.58</td>\n",
              "      <td>Yes</td>\n",
              "      <td>No</td>\n",
              "      <td>No</td>\n",
              "      <td>20.0</td>\n",
              "      <td>30.0</td>\n",
              "      <td>No</td>\n",
              "      <td>Male</td>\n",
              "      <td>65-69</td>\n",
              "      <td>White</td>\n",
              "      <td>Yes</td>\n",
              "      <td>Yes</td>\n",
              "      <td>Fair</td>\n",
              "      <td>8.0</td>\n",
              "      <td>Yes</td>\n",
              "      <td>No</td>\n",
              "      <td>No</td>\n",
              "    </tr>\n",
              "    <tr>\n",
              "      <th>3</th>\n",
              "      <td>No</td>\n",
              "      <td>24.21</td>\n",
              "      <td>No</td>\n",
              "      <td>No</td>\n",
              "      <td>No</td>\n",
              "      <td>0.0</td>\n",
              "      <td>0.0</td>\n",
              "      <td>No</td>\n",
              "      <td>Female</td>\n",
              "      <td>75-79</td>\n",
              "      <td>White</td>\n",
              "      <td>No</td>\n",
              "      <td>No</td>\n",
              "      <td>Good</td>\n",
              "      <td>6.0</td>\n",
              "      <td>No</td>\n",
              "      <td>No</td>\n",
              "      <td>Yes</td>\n",
              "    </tr>\n",
              "    <tr>\n",
              "      <th>4</th>\n",
              "      <td>No</td>\n",
              "      <td>23.71</td>\n",
              "      <td>No</td>\n",
              "      <td>No</td>\n",
              "      <td>No</td>\n",
              "      <td>28.0</td>\n",
              "      <td>0.0</td>\n",
              "      <td>Yes</td>\n",
              "      <td>Female</td>\n",
              "      <td>40-44</td>\n",
              "      <td>White</td>\n",
              "      <td>No</td>\n",
              "      <td>Yes</td>\n",
              "      <td>Very good</td>\n",
              "      <td>8.0</td>\n",
              "      <td>No</td>\n",
              "      <td>No</td>\n",
              "      <td>No</td>\n",
              "    </tr>\n",
              "  </tbody>\n",
              "</table>\n",
              "</div>\n",
              "      <button class=\"colab-df-convert\" onclick=\"convertToInteractive('df-6448cc53-4f60-41a5-9f16-8d14658e8330')\"\n",
              "              title=\"Convert this dataframe to an interactive table.\"\n",
              "              style=\"display:none;\">\n",
              "        \n",
              "  <svg xmlns=\"http://www.w3.org/2000/svg\" height=\"24px\"viewBox=\"0 0 24 24\"\n",
              "       width=\"24px\">\n",
              "    <path d=\"M0 0h24v24H0V0z\" fill=\"none\"/>\n",
              "    <path d=\"M18.56 5.44l.94 2.06.94-2.06 2.06-.94-2.06-.94-.94-2.06-.94 2.06-2.06.94zm-11 1L8.5 8.5l.94-2.06 2.06-.94-2.06-.94L8.5 2.5l-.94 2.06-2.06.94zm10 10l.94 2.06.94-2.06 2.06-.94-2.06-.94-.94-2.06-.94 2.06-2.06.94z\"/><path d=\"M17.41 7.96l-1.37-1.37c-.4-.4-.92-.59-1.43-.59-.52 0-1.04.2-1.43.59L10.3 9.45l-7.72 7.72c-.78.78-.78 2.05 0 2.83L4 21.41c.39.39.9.59 1.41.59.51 0 1.02-.2 1.41-.59l7.78-7.78 2.81-2.81c.8-.78.8-2.07 0-2.86zM5.41 20L4 18.59l7.72-7.72 1.47 1.35L5.41 20z\"/>\n",
              "  </svg>\n",
              "      </button>\n",
              "      \n",
              "  <style>\n",
              "    .colab-df-container {\n",
              "      display:flex;\n",
              "      flex-wrap:wrap;\n",
              "      gap: 12px;\n",
              "    }\n",
              "\n",
              "    .colab-df-convert {\n",
              "      background-color: #E8F0FE;\n",
              "      border: none;\n",
              "      border-radius: 50%;\n",
              "      cursor: pointer;\n",
              "      display: none;\n",
              "      fill: #1967D2;\n",
              "      height: 32px;\n",
              "      padding: 0 0 0 0;\n",
              "      width: 32px;\n",
              "    }\n",
              "\n",
              "    .colab-df-convert:hover {\n",
              "      background-color: #E2EBFA;\n",
              "      box-shadow: 0px 1px 2px rgba(60, 64, 67, 0.3), 0px 1px 3px 1px rgba(60, 64, 67, 0.15);\n",
              "      fill: #174EA6;\n",
              "    }\n",
              "\n",
              "    [theme=dark] .colab-df-convert {\n",
              "      background-color: #3B4455;\n",
              "      fill: #D2E3FC;\n",
              "    }\n",
              "\n",
              "    [theme=dark] .colab-df-convert:hover {\n",
              "      background-color: #434B5C;\n",
              "      box-shadow: 0px 1px 3px 1px rgba(0, 0, 0, 0.15);\n",
              "      filter: drop-shadow(0px 1px 2px rgba(0, 0, 0, 0.3));\n",
              "      fill: #FFFFFF;\n",
              "    }\n",
              "  </style>\n",
              "\n",
              "      <script>\n",
              "        const buttonEl =\n",
              "          document.querySelector('#df-6448cc53-4f60-41a5-9f16-8d14658e8330 button.colab-df-convert');\n",
              "        buttonEl.style.display =\n",
              "          google.colab.kernel.accessAllowed ? 'block' : 'none';\n",
              "\n",
              "        async function convertToInteractive(key) {\n",
              "          const element = document.querySelector('#df-6448cc53-4f60-41a5-9f16-8d14658e8330');\n",
              "          const dataTable =\n",
              "            await google.colab.kernel.invokeFunction('convertToInteractive',\n",
              "                                                     [key], {});\n",
              "          if (!dataTable) return;\n",
              "\n",
              "          const docLinkHtml = 'Like what you see? Visit the ' +\n",
              "            '<a target=\"_blank\" href=https://colab.research.google.com/notebooks/data_table.ipynb>data table notebook</a>'\n",
              "            + ' to learn more about interactive tables.';\n",
              "          element.innerHTML = '';\n",
              "          dataTable['output_type'] = 'display_data';\n",
              "          await google.colab.output.renderOutput(dataTable, element);\n",
              "          const docLink = document.createElement('div');\n",
              "          docLink.innerHTML = docLinkHtml;\n",
              "          element.appendChild(docLink);\n",
              "        }\n",
              "      </script>\n",
              "    </div>\n",
              "  </div>\n",
              "  "
            ]
          },
          "metadata": {},
          "execution_count": 229
        }
      ]
    },
    {
      "cell_type": "code",
      "source": [
        "print(dataset.shape)"
      ],
      "metadata": {
        "colab": {
          "base_uri": "https://localhost:8080/"
        },
        "id": "w4mmowtaIO87",
        "outputId": "d9e65a2c-36e4-4937-f121-f116f4c6fa89"
      },
      "execution_count": null,
      "outputs": [
        {
          "output_type": "stream",
          "name": "stdout",
          "text": [
            "(319795, 18)\n"
          ]
        }
      ]
    },
    {
      "cell_type": "markdown",
      "source": [
        "## EDA"
      ],
      "metadata": {
        "id": "ltx19JEi15To"
      }
    },
    {
      "cell_type": "markdown",
      "source": [
        "heart disease ratio visualization (imbalanced)\n",
        "\n"
      ],
      "metadata": {
        "id": "noZKb4bQB8H4"
      }
    },
    {
      "cell_type": "code",
      "source": [
        "heart_disease_yes = dataset['HeartDisease'].str.count('Yes').sum()\n",
        "heart_disease_no = dataset['HeartDisease'].str.count('No').sum()\n"
      ],
      "metadata": {
        "id": "xuSVY0xMBX9D"
      },
      "execution_count": null,
      "outputs": []
    },
    {
      "cell_type": "code",
      "source": [
        "labels = 'Diagnosed with Heart Disease', 'Healthy Heart'\n",
        "sizes = [heart_disease_yes,heart_disease_no]\n",
        "explode = (0, 0.1)  # only \"explode\" the 2nd slice (i.e. 'Healthy Heart')\n",
        "\n",
        "fig1, ax1 = plt.subplots()\n",
        "ax1.pie(sizes, explode=explode, labels=labels, autopct='%1.1f%%',\n",
        "        shadow=True, startangle=90)\n",
        "ax1.axis('equal')  # Equal aspect ratio ensures that pie is drawn as a circle.\n",
        "plt.legend()\n",
        "plt.show()"
      ],
      "metadata": {
        "colab": {
          "base_uri": "https://localhost:8080/"
        },
        "id": "Pzgml1tCB3Xt",
        "outputId": "ad5787f1-009b-4467-ac7d-ed692850ece3"
      },
      "execution_count": null,
      "outputs": [
        {
          "output_type": "display_data",
          "data": {
            "text/plain": [
              "<Figure size 432x288 with 1 Axes>"
            ],
            "image/png": "[encoded data removed]"
          },
          "metadata": {}
        }
      ]
    },
    {
      "cell_type": "code",
      "source": [
        "import seaborn as sns\n",
        "\n",
        "# The heatmap of the correlation matrix that helps us identify correlations between variables\n",
        "sns.heatmap(dataset.corr(), annot=True)"
      ],
      "metadata": {
        "colab": {
          "base_uri": "https://localhost:8080/"
        },
        "id": "d76pCDKv1uz_",
        "outputId": "4bc386eb-c680-48a0-9111-57b381905696"
      },
      "execution_count": null,
      "outputs": [
        {
          "output_type": "execute_result",
          "data": {
            "text/plain": [
              "<AxesSubplot:>"
            ]
          },
          "metadata": {},
          "execution_count": 233
        },
        {
          "output_type": "display_data",
          "data": {
            "text/plain": [
              "<Figure size 432x288 with 2 Axes>"
            ],
            "image/png": "[encoded data removed]"
          },
          "metadata": {
            "needs_background": "light"
          }
        }
      ]
    },
    {
      "cell_type": "code",
      "source": [
        "# For example, we can see the relationship between BMI and HeartDisease. From the diagram, we can infer that people with BMI within a certain range are more likely to get heart disease.\n",
        "sns.histplot(x = 'BMI', hue = 'HeartDisease', data = dataset)"
      ],
      "metadata": {
        "colab": {
          "base_uri": "https://localhost:8080/"
        },
        "id": "HtTW9jb43Nwg",
        "outputId": "a9c3687f-0485-4f29-ee17-8e482b7b2158"
      },
      "execution_count": null,
      "outputs": [
        {
          "output_type": "execute_result",
          "data": {
            "text/plain": [
              "<AxesSubplot:xlabel='BMI', ylabel='Count'>"
            ]
          },
          "metadata": {},
          "execution_count": 234
        },
        {
          "output_type": "display_data",
          "data": {
            "text/plain": [
              "<Figure size 432x288 with 1 Axes>"
            ],
            "image/png": "[encoded data removed]"
          },
          "metadata": {
            "needs_background": "light"
          }
        }
      ]
    },
    {
      "cell_type": "markdown",
      "source": [
        "We can also draw diagrams to see the effect of other health indicators. In the end, since we know these health indicators play a part in the possiblity of getting a heart disease, we can begin our data preprocessing and training of our models."
      ],
      "metadata": {
        "id": "5JE1jM7_6B2l"
      }
    },
    {
      "cell_type": "markdown",
      "source": [
        "## Data Processing"
      ],
      "metadata": {
        "id": "0IO0AbO8NL_J"
      }
    },
    {
      "cell_type": "code",
      "source": [
        "# Delete the column with missing values\n",
        "dataset = dataset.dropna(axis=1)\n",
        "\n",
        "# Find the duplicates\n",
        "duplicates = dataset[dataset.duplicated()]\n",
        "\n",
        "# Delete the duplicates\n",
        "data = dataset.drop_duplicates()"
      ],
      "metadata": {
        "id": "PY8yrn4mNPtp"
      },
      "execution_count": null,
      "outputs": []
    },
    {
      "cell_type": "code",
      "source": [
        "# Demonstrate suitability: our dataset has fulfilled the size requirement\n",
        "print(data.shape)"
      ],
      "metadata": {
        "colab": {
          "base_uri": "https://localhost:8080/"
        },
        "id": "sCZlRWgUS99l",
        "outputId": "29ee7ed7-b198-4d0c-de0f-60a3fb1506ce"
      },
      "execution_count": null,
      "outputs": [
        {
          "output_type": "stream",
          "name": "stdout",
          "text": [
            "(301717, 18)\n"
          ]
        }
      ]
    },
    {
      "cell_type": "code",
      "source": [
        "data.dtypes"
      ],
      "metadata": {
        "colab": {
          "base_uri": "https://localhost:8080/"
        },
        "id": "uJr6W18AWngP",
        "outputId": "a3d98046-f042-4eb3-d6ad-a561d35e9ecc"
      },
      "execution_count": null,
      "outputs": [
        {
          "output_type": "execute_result",
          "data": {
            "text/plain": [
              "HeartDisease         object\n",
              "BMI                 float64\n",
              "Smoking              object\n",
              "AlcoholDrinking      object\n",
              "Stroke               object\n",
              "PhysicalHealth      float64\n",
              "MentalHealth        float64\n",
              "DiffWalking          object\n",
              "Sex                  object\n",
              "AgeCategory          object\n",
              "Race                 object\n",
              "Diabetic             object\n",
              "PhysicalActivity     object\n",
              "GenHealth            object\n",
              "SleepTime           float64\n",
              "Asthma               object\n",
              "KidneyDisease        object\n",
              "SkinCancer           object\n",
              "dtype: object"
            ]
          },
          "metadata": {},
          "execution_count": 237
        }
      ]
    },
    {
      "cell_type": "markdown",
      "source": [
        "Since the age is represented by the interval (for example, for the category between 55-59), we could encode this by using the start age of the corresponding groups."
      ],
      "metadata": {
        "id": "ywXjypTgT85p"
      }
    },
    {
      "cell_type": "code",
      "source": [
        "data['AgeCategory'].unique()"
      ],
      "metadata": {
        "id": "t2YgRmj5aIL0",
        "outputId": "c76fcad4-30ef-48d8-d2e8-c1e0c65bb80d",
        "colab": {
          "base_uri": "https://localhost:8080/"
        }
      },
      "execution_count": null,
      "outputs": [
        {
          "output_type": "execute_result",
          "data": {
            "text/plain": [
              "array(['55-59', '80 or older', '65-69', '75-79', '40-44', '70-74',\n",
              "       '60-64', '50-54', '45-49', '18-24', '35-39', '30-34', '25-29'],\n",
              "      dtype=object)"
            ]
          },
          "metadata": {},
          "execution_count": 238
        }
      ]
    },
    {
      "cell_type": "code",
      "source": [
        "def convertAge(a):\n",
        "    numStr = ''\n",
        "    numStr = a[0] + a[1]\n",
        "    return np.float64(numStr)\n",
        "data['AgeCategory'] = data['AgeCategory'].apply(lambda x: convertAge(x))"
      ],
      "metadata": {
        "id": "Nta3QPT6-UhB"
      },
      "execution_count": null,
      "outputs": []
    },
    {
      "cell_type": "code",
      "source": [
        "data['AgeCategory'].unique()"
      ],
      "metadata": {
        "colab": {
          "base_uri": "https://localhost:8080/"
        },
        "id": "iSESad8a-3I3",
        "outputId": "9db8e97b-f43c-43f2-956d-b8cd7fb4ebaa"
      },
      "execution_count": null,
      "outputs": [
        {
          "output_type": "execute_result",
          "data": {
            "text/plain": [
              "array([55., 80., 65., 75., 40., 70., 60., 50., 45., 18., 35., 30., 25.])"
            ]
          },
          "metadata": {},
          "execution_count": 240
        }
      ]
    },
    {
      "cell_type": "code",
      "source": [
        "## Encode the non-numerical variables\n",
        "from sklearn import preprocessing\n",
        "import warnings\n",
        "warnings.filterwarnings('ignore')\n",
        "le = preprocessing.LabelEncoder()\n",
        "feature_names = ['HeartDisease', 'Smoking', 'AlcoholDrinking', 'Stroke', 'DiffWalking', 'Sex', 'Race', 'Diabetic', 'PhysicalActivity', 'GenHealth', 'Asthma', 'KidneyDisease', 'SkinCancer']\n",
        "for feature in feature_names:\n",
        "  data[feature] = le.fit_transform(data[feature])\n",
        "data.head()"
      ],
      "metadata": {
        "id": "5N3ZMvZDX2WX",
        "outputId": "4bca6417-f734-4410-85df-37e0478914ad",
        "colab": {
          "base_uri": "https://localhost:8080/",
          "height": 270
        }
      },
      "execution_count": null,
      "outputs": [
        {
          "output_type": "execute_result",
          "data": {
            "text/plain": [
              "   HeartDisease    BMI  Smoking  AlcoholDrinking  Stroke  PhysicalHealth  \\\n",
              "0             0  16.60        1                0       0             3.0   \n",
              "1             0  20.34        0                0       1             0.0   \n",
              "2             0  26.58        1                0       0            20.0   \n",
              "3             0  24.21        0                0       0             0.0   \n",
              "4             0  23.71        0                0       0            28.0   \n",
              "\n",
              "   MentalHealth  DiffWalking  Sex  AgeCategory  Race  Diabetic  \\\n",
              "0          30.0            0    0         55.0     5         2   \n",
              "1           0.0            0    0         80.0     5         0   \n",
              "2          30.0            0    1         65.0     5         2   \n",
              "3           0.0            0    0         75.0     5         0   \n",
              "4           0.0            1    0         40.0     5         0   \n",
              "\n",
              "   PhysicalActivity  GenHealth  SleepTime  Asthma  KidneyDisease  SkinCancer  \n",
              "0                 1          4        5.0       1              0           1  \n",
              "1                 1          4        7.0       0              0           0  \n",
              "2                 1          1        8.0       1              0           0  \n",
              "3                 0          2        6.0       0              0           1  \n",
              "4                 1          4        8.0       0              0           0  "
            ],
            "text/html": [
              "\n",
              "  <div id=\"df-7166fee9-327a-4e0b-971f-c0f9a6a11b09\">\n",
              "    <div class=\"colab-df-container\">\n",
              "      <div>\n",
              "<style scoped>\n",
              "    .dataframe tbody tr th:only-of-type {\n",
              "        vertical-align: middle;\n",
              "    }\n",
              "\n",
              "    .dataframe tbody tr th {\n",
              "        vertical-align: top;\n",
              "    }\n",
              "\n",
              "    .dataframe thead th {\n",
              "        text-align: right;\n",
              "    }\n",
              "</style>\n",
              "<table border=\"1\" class=\"dataframe\">\n",
              "  <thead>\n",
              "    <tr style=\"text-align: right;\">\n",
              "      <th></th>\n",
              "      <th>HeartDisease</th>\n",
              "      <th>BMI</th>\n",
              "      <th>Smoking</th>\n",
              "      <th>AlcoholDrinking</th>\n",
              "      <th>Stroke</th>\n",
              "      <th>PhysicalHealth</th>\n",
              "      <th>MentalHealth</th>\n",
              "      <th>DiffWalking</th>\n",
              "      <th>Sex</th>\n",
              "      <th>AgeCategory</th>\n",
              "      <th>Race</th>\n",
              "      <th>Diabetic</th>\n",
              "      <th>PhysicalActivity</th>\n",
              "      <th>GenHealth</th>\n",
              "      <th>SleepTime</th>\n",
              "      <th>Asthma</th>\n",
              "      <th>KidneyDisease</th>\n",
              "      <th>SkinCancer</th>\n",
              "    </tr>\n",
              "  </thead>\n",
              "  <tbody>\n",
              "    <tr>\n",
              "      <th>0</th>\n",
              "      <td>0</td>\n",
              "      <td>16.60</td>\n",
              "      <td>1</td>\n",
              "      <td>0</td>\n",
              "      <td>0</td>\n",
              "      <td>3.0</td>\n",
              "      <td>30.0</td>\n",
              "      <td>0</td>\n",
              "      <td>0</td>\n",
              "      <td>55.0</td>\n",
              "      <td>5</td>\n",
              "      <td>2</td>\n",
              "      <td>1</td>\n",
              "      <td>4</td>\n",
              "      <td>5.0</td>\n",
              "      <td>1</td>\n",
              "      <td>0</td>\n",
              "      <td>1</td>\n",
              "    </tr>\n",
              "    <tr>\n",
              "      <th>1</th>\n",
              "      <td>0</td>\n",
              "      <td>20.34</td>\n",
              "      <td>0</td>\n",
              "      <td>0</td>\n",
              "      <td>1</td>\n",
              "      <td>0.0</td>\n",
              "      <td>0.0</td>\n",
              "      <td>0</td>\n",
              "      <td>0</td>\n",
              "      <td>80.0</td>\n",
              "      <td>5</td>\n",
              "      <td>0</td>\n",
              "      <td>1</td>\n",
              "      <td>4</td>\n",
              "      <td>7.0</td>\n",
              "      <td>0</td>\n",
              "      <td>0</td>\n",
              "      <td>0</td>\n",
              "    </tr>\n",
              "    <tr>\n",
              "      <th>2</th>\n",
              "      <td>0</td>\n",
              "      <td>26.58</td>\n",
              "      <td>1</td>\n",
              "      <td>0</td>\n",
              "      <td>0</td>\n",
              "      <td>20.0</td>\n",
              "      <td>30.0</td>\n",
              "      <td>0</td>\n",
              "      <td>1</td>\n",
              "      <td>65.0</td>\n",
              "      <td>5</td>\n",
              "      <td>2</td>\n",
              "      <td>1</td>\n",
              "      <td>1</td>\n",
              "      <td>8.0</td>\n",
              "      <td>1</td>\n",
              "      <td>0</td>\n",
              "      <td>0</td>\n",
              "    </tr>\n",
              "    <tr>\n",
              "      <th>3</th>\n",
              "      <td>0</td>\n",
              "      <td>24.21</td>\n",
              "      <td>0</td>\n",
              "      <td>0</td>\n",
              "      <td>0</td>\n",
              "      <td>0.0</td>\n",
              "      <td>0.0</td>\n",
              "      <td>0</td>\n",
              "      <td>0</td>\n",
              "      <td>75.0</td>\n",
              "      <td>5</td>\n",
              "      <td>0</td>\n",
              "      <td>0</td>\n",
              "      <td>2</td>\n",
              "      <td>6.0</td>\n",
              "      <td>0</td>\n",
              "      <td>0</td>\n",
              "      <td>1</td>\n",
              "    </tr>\n",
              "    <tr>\n",
              "      <th>4</th>\n",
              "      <td>0</td>\n",
              "      <td>23.71</td>\n",
              "      <td>0</td>\n",
              "      <td>0</td>\n",
              "      <td>0</td>\n",
              "      <td>28.0</td>\n",
              "      <td>0.0</td>\n",
              "      <td>1</td>\n",
              "      <td>0</td>\n",
              "      <td>40.0</td>\n",
              "      <td>5</td>\n",
              "      <td>0</td>\n",
              "      <td>1</td>\n",
              "      <td>4</td>\n",
              "      <td>8.0</td>\n",
              "      <td>0</td>\n",
              "      <td>0</td>\n",
              "      <td>0</td>\n",
              "    </tr>\n",
              "  </tbody>\n",
              "</table>\n",
              "</div>\n",
              "      <button class=\"colab-df-convert\" onclick=\"convertToInteractive('df-7166fee9-327a-4e0b-971f-c0f9a6a11b09')\"\n",
              "              title=\"Convert this dataframe to an interactive table.\"\n",
              "              style=\"display:none;\">\n",
              "        \n",
              "  <svg xmlns=\"http://www.w3.org/2000/svg\" height=\"24px\"viewBox=\"0 0 24 24\"\n",
              "       width=\"24px\">\n",
              "    <path d=\"M0 0h24v24H0V0z\" fill=\"none\"/>\n",
              "    <path d=\"M18.56 5.44l.94 2.06.94-2.06 2.06-.94-2.06-.94-.94-2.06-.94 2.06-2.06.94zm-11 1L8.5 8.5l.94-2.06 2.06-.94-2.06-.94L8.5 2.5l-.94 2.06-2.06.94zm10 10l.94 2.06.94-2.06 2.06-.94-2.06-.94-.94-2.06-.94 2.06-2.06.94z\"/><path d=\"M17.41 7.96l-1.37-1.37c-.4-.4-.92-.59-1.43-.59-.52 0-1.04.2-1.43.59L10.3 9.45l-7.72 7.72c-.78.78-.78 2.05 0 2.83L4 21.41c.39.39.9.59 1.41.59.51 0 1.02-.2 1.41-.59l7.78-7.78 2.81-2.81c.8-.78.8-2.07 0-2.86zM5.41 20L4 18.59l7.72-7.72 1.47 1.35L5.41 20z\"/>\n",
              "  </svg>\n",
              "      </button>\n",
              "      \n",
              "  <style>\n",
              "    .colab-df-container {\n",
              "      display:flex;\n",
              "      flex-wrap:wrap;\n",
              "      gap: 12px;\n",
              "    }\n",
              "\n",
              "    .colab-df-convert {\n",
              "      background-color: #E8F0FE;\n",
              "      border: none;\n",
              "      border-radius: 50%;\n",
              "      cursor: pointer;\n",
              "      display: none;\n",
              "      fill: #1967D2;\n",
              "      height: 32px;\n",
              "      padding: 0 0 0 0;\n",
              "      width: 32px;\n",
              "    }\n",
              "\n",
              "    .colab-df-convert:hover {\n",
              "      background-color: #E2EBFA;\n",
              "      box-shadow: 0px 1px 2px rgba(60, 64, 67, 0.3), 0px 1px 3px 1px rgba(60, 64, 67, 0.15);\n",
              "      fill: #174EA6;\n",
              "    }\n",
              "\n",
              "    [theme=dark] .colab-df-convert {\n",
              "      background-color: #3B4455;\n",
              "      fill: #D2E3FC;\n",
              "    }\n",
              "\n",
              "    [theme=dark] .colab-df-convert:hover {\n",
              "      background-color: #434B5C;\n",
              "      box-shadow: 0px 1px 3px 1px rgba(0, 0, 0, 0.15);\n",
              "      filter: drop-shadow(0px 1px 2px rgba(0, 0, 0, 0.3));\n",
              "      fill: #FFFFFF;\n",
              "    }\n",
              "  </style>\n",
              "\n",
              "      <script>\n",
              "        const buttonEl =\n",
              "          document.querySelector('#df-7166fee9-327a-4e0b-971f-c0f9a6a11b09 button.colab-df-convert');\n",
              "        buttonEl.style.display =\n",
              "          google.colab.kernel.accessAllowed ? 'block' : 'none';\n",
              "\n",
              "        async function convertToInteractive(key) {\n",
              "          const element = document.querySelector('#df-7166fee9-327a-4e0b-971f-c0f9a6a11b09');\n",
              "          const dataTable =\n",
              "            await google.colab.kernel.invokeFunction('convertToInteractive',\n",
              "                                                     [key], {});\n",
              "          if (!dataTable) return;\n",
              "\n",
              "          const docLinkHtml = 'Like what you see? Visit the ' +\n",
              "            '<a target=\"_blank\" href=https://colab.research.google.com/notebooks/data_table.ipynb>data table notebook</a>'\n",
              "            + ' to learn more about interactive tables.';\n",
              "          element.innerHTML = '';\n",
              "          dataTable['output_type'] = 'display_data';\n",
              "          await google.colab.output.renderOutput(dataTable, element);\n",
              "          const docLink = document.createElement('div');\n",
              "          docLink.innerHTML = docLinkHtml;\n",
              "          element.appendChild(docLink);\n",
              "        }\n",
              "      </script>\n",
              "    </div>\n",
              "  </div>\n",
              "  "
            ]
          },
          "metadata": {},
          "execution_count": 241
        }
      ]
    },
    {
      "cell_type": "code",
      "source": [
        "# Split the data into train set and test set\n",
        "from sklearn.model_selection import train_test_split\n",
        "X = data.loc[:, data.columns != 'HeartDisease']\n",
        "y = data['HeartDisease']\n",
        "X_train, X_test, y_train, y_test = train_test_split(X, y, test_size = 0.2, random_state=42)"
      ],
      "metadata": {
        "id": "sUjxvOt5gGBc"
      },
      "execution_count": null,
      "outputs": []
    },
    {
      "cell_type": "markdown",
      "metadata": {
        "id": "0guZngry8dID"
      },
      "source": [
        "# Evaluation Metrics\n",
        "\n",
        "We are going to use several classification metrics such as precision and recall to assess the validity of our model. Precision = TP / (TP + FP). A higher precision value means we can correctly identify a larger proportion of positive predictions among all positive predictions. Recall = TP / (TP + FN). A higher recall value means we can correctly identify a larger proportion of positive cases in the dataset. Thus, we are better at identifying patients who actually have heart disease, and we are less likely to miss patients who require further diagnosis and treatments. We can also calculate the Fl score from precision and recall to find a good balance between these metrics."
      ]
    },
    {
      "cell_type": "markdown",
      "metadata": {
        "id": "r6OH-nIf8dID"
      },
      "source": [
        "# Proposed Solution\n",
        "\n",
        "We aim to achieve the discrimination of cardiac patients using supervised machine learning models, relying on the features given in the data. For this purpose, we will segment some of the feature data from a random healthy or diseased population and use it as a test set to evaluate the model results. For data preprocessing, we would encode the categorical variables with numberical values. We would unify all the data into the same format for later use during data preprocessing. \n",
        "\n",
        "We will use these features for algorithm selection to try to build logistic regression, SVM and random forest models. Below is a specific explanation for each of these models in this project.<br><br>\n",
        "\n",
        "\n",
        "Logistic regression<br>\n",
        "The main feature of logistic regression is its ability to fit a decision boundary linearly. Since two outcomes exist in our dataset: Patients who are sick (1) or healthy (0). In addition to the training and test sets, we will split a certain amount of data into the data and create a validation set. For the selection of the best hyperparameters, we expect to use a gradient descent approach to find the method that minimizes the loss function and use the validation set to evaluate the parameters based on the obtained F1 data. Finally, we will use the test set for prediction and evaluate the model results using accuracy, recall, and F1 data.<br><br>\n",
        "\n",
        "\n",
        "SVM<br>\n",
        "The SVM is characterized by its ability to find a hyperplane to separate the classes while creating maximum margins between classes, i.e., making the distinction between each class the most obvious. This is determined by the support vector in the category and can be achieved by minimizing the loss function. We will use linear SVM because our dataset is large, and linear SVM is well adapted to large datasets. Since our classification is binary, we believe there will be no curvature in the linear SVM. After building the test and training sets, we will use the one-to-one classifier to classify the model and later evaluate the model (this will be explained later).<br><br>\n",
        "\n",
        "RandomForest<br>\n",
        "\n",
        "Random forests are characterized by their ability to ensemble multiple decision tree models, each using a random subset of the training data. We mainly use random forests because decision tree models are well suited for classification problems, and random number models have more advantages over decision trees. The two most important ones are:\n",
        " 1. Random forests can evaluate the impact of different features on the results because the features used in each decision tree in the forest are arbitrary. For some of them, some features are removed from the model training features. The random forest results will reflect the impact of eliminating these features on the results. This will help us determine each feature's effect on disease causation, which is important in reality for disease prevention. \n",
        " 2. The regression forest also prevents overfitting by averaging the results of multiple decision tree models, which is essential for the large number of features we use.\n",
        "\n",
        "<br>\n",
        "\n",
        "\n",
        "For model performance evaluation, we will use accuracy, precision, F1 score, and recall rate to evaluate the performance of the models and use cross-validation to prevent overfitting. For the baseline approach, we will use the logistic regression model as the baseline model because this model is very interpretable and the impact of different features on the final result can be seen from the weights of the features; and it itself does not require scaling of the features and takes up less computational resources. In addition, we will visualize the prediction results of the model, which includes drawing icons with confusion matrices."
      ]
    },
    {
      "cell_type": "markdown",
      "metadata": {
        "id": "9QE5EXWv8dID"
      },
      "source": [
        "# Preliminary results\n",
        "\n",
        "NEW SECTION!\n",
        "\n",
        "Please show any preliminary results you have managed to obtain.\n",
        "\n",
        "Examples would include:\n",
        "- Analyzing the suitability of a dataset or alogrithm for prediction/solving your problem \n",
        "- Performing feature selection or hand-designing features from the raw data. Describe the features available/created and/or show the code for selection/creation\n",
        "- Showing the performance of a base model/hyper-parameter setting.  Solve the task with one \"default\" algorithm and characterize the performance level of that base model.\n",
        "- Learning curves or validation curves for a particular model\n",
        "- Tables/graphs showing the performance of different models/hyper-parameters\n",
        "\n"
      ]
    },
    {
      "cell_type": "code",
      "source": [
        "from sklearn.pipeline import make_pipeline\n",
        "from sklearn.preprocessing import PolynomialFeatures\n",
        "from sklearn.linear_model import LinearRegression, LogisticRegression\n",
        "from sklearn.preprocessing import StandardScaler\n",
        "from sklearn.metrics import f1_score, mean_squared_error\n",
        "\n",
        "from sklearn.metrics import zero_one_loss, accuracy_score, roc_auc_score, f1_score\n",
        "from sklearn.metrics import roc_curve, precision_recall_curve\n",
        "from sklearn.metrics import ConfusionMatrixDisplay, confusion_matrix"
      ],
      "metadata": {
        "id": "ko1ecGWn6cJs"
      },
      "execution_count": null,
      "outputs": []
    },
    {
      "cell_type": "code",
      "source": [
        "# Base model: Logistic regression\n",
        "classifier_model = make_pipeline(\n",
        "    StandardScaler(), \n",
        "    LogisticRegression(random_state=0, penalty='l2')\n",
        ")"
      ],
      "metadata": {
        "id": "AV2S-izu7fly"
      },
      "execution_count": null,
      "outputs": []
    },
    {
      "cell_type": "code",
      "source": [
        "classifier_model.fit(X_train, y_train)\n",
        "\n",
        "y_pred_train = classifier_model.predict(X_train)\n",
        "y_pred_test = classifier_model.predict(X_test)"
      ],
      "metadata": {
        "id": "g9zfVQBZ-c0N"
      },
      "execution_count": null,
      "outputs": []
    },
    {
      "cell_type": "code",
      "source": [
        "# Confusion matrix\n",
        "cm = confusion_matrix(y_test, y_pred_test)\n",
        "disp = ConfusionMatrixDisplay(cm);\n",
        "disp.plot()"
      ],
      "metadata": {
        "id": "PPFgApQf-4lz",
        "outputId": "0a3da272-c914-4830-d151-8e5529fa1f1e",
        "colab": {
          "base_uri": "https://localhost:8080/",
          "height": 296
        }
      },
      "execution_count": null,
      "outputs": [
        {
          "output_type": "execute_result",
          "data": {
            "text/plain": [
              "<sklearn.metrics._plot.confusion_matrix.ConfusionMatrixDisplay at 0x7fdceafb39a0>"
            ]
          },
          "metadata": {},
          "execution_count": 246
        },
        {
          "output_type": "display_data",
          "data": {
            "text/plain": [
              "<Figure size 432x288 with 2 Axes>"
            ],
            "image/png": "[encoded data removed]"
          },
          "metadata": {
            "needs_background": "light"
          }
        }
      ]
    },
    {
      "cell_type": "code",
      "source": [
        "(true_negatives, false_positives,\n",
        " false_negatives, true_positives\n",
        ") = confusion_matrix(y_train, y_pred_train).ravel()"
      ],
      "metadata": {
        "id": "TAR_sl-f_HsP"
      },
      "execution_count": null,
      "outputs": []
    },
    {
      "cell_type": "code",
      "source": [
        "scores = classifier_model.predict_proba(X_test)[:,1]\n",
        "fps = []\n",
        "tps = []\n",
        "for threshold in np.linspace(0,1,1000):\n",
        "    y_pred = scores > threshold\n",
        "    # Step 1: Compute the confusion matrix\n",
        "    # Step 2: Compute the TP and FP \n",
        "    # and append it to fps and tps\n",
        "    cm = confusion_matrix(y_test, y_pred)\n",
        "    (true_negatives, false_positives, false_negatives, true_positives) = cm.ravel()\n",
        "    fpr = false_positives / (false_positives + true_negatives)\n",
        "    tpr = true_positives / (true_positives + false_negatives)\n",
        "    fps.append(fpr)\n",
        "    tps.append(tpr)"
      ],
      "metadata": {
        "id": "sq3QPSBFA8Uh"
      },
      "execution_count": null,
      "outputs": []
    },
    {
      "cell_type": "code",
      "source": [
        "def my_auc(fps, tps):\n",
        "    arrFPS = np.array(fps)\n",
        "    arrTPS = np.array(tps)\n",
        "    auc = -1 * np.trapz(arrTPS, arrFPS)\n",
        "    return auc"
      ],
      "metadata": {
        "id": "enDdhjwhBqfw"
      },
      "execution_count": null,
      "outputs": []
    },
    {
      "cell_type": "code",
      "source": [
        "fig, ax = plt.subplots(1, 1, figsize=(8,8))\n",
        "ax.plot(fps, tps, linewidth=5, color='k')\n",
        "ax.plot(np.linspace(0,1, 20), np.linspace(0,1, 20), linewidth=5, color='b', linestyle='--')\n",
        "assert fps != [] and tps != []\n",
        "ax.fill_between(fps, tps, [0]*len(tps), color='grey', alpha=0.3)\n",
        "ax.set_xlabel(\"false positive rate\")\n",
        "ax.set_ylabel(\"true positive rate\");"
      ],
      "metadata": {
        "id": "rDRKizkcBs8z",
        "outputId": "b3e90878-c045-4dbe-e662-90e74390ac44",
        "colab": {
          "base_uri": "https://localhost:8080/",
          "height": 497
        }
      },
      "execution_count": null,
      "outputs": [
        {
          "output_type": "display_data",
          "data": {
            "text/plain": [
              "<Figure size 576x576 with 1 Axes>"
            ],
            "image/png": "[encoded data removed]"
          },
          "metadata": {
            "needs_background": "light"
          }
        }
      ]
    },
    {
      "cell_type": "code",
      "source": [
        "from sklearn.metrics import accuracy_score, precision_score, recall_score\n",
        "from sklearn. metrics import classification_report\n",
        "from sklearn.model_selection import cross_validate\n",
        "from sklearn.metrics import make_scorer\n",
        "\n",
        "print(classification_report(y_test, y_pred_test))"
      ],
      "metadata": {
        "id": "PXdMEc7mGazH",
        "outputId": "e5cb8a15-a8ba-4e3c-8e57-c22b0f84e8f3",
        "colab": {
          "base_uri": "https://localhost:8080/"
        }
      },
      "execution_count": null,
      "outputs": [
        {
          "output_type": "stream",
          "name": "stdout",
          "text": [
            "              precision    recall  f1-score   support\n",
            "\n",
            "           0       0.92      0.99      0.95     54894\n",
            "           1       0.51      0.09      0.15      5450\n",
            "\n",
            "    accuracy                           0.91     60344\n",
            "   macro avg       0.71      0.54      0.55     60344\n",
            "weighted avg       0.88      0.91      0.88     60344\n",
            "\n"
          ]
        }
      ]
    },
    {
      "cell_type": "code",
      "source": [
        "# Performe cross-validation to the logistic regression model\n",
        "score = {'Accuracy': make_scorer(accuracy_score), 'Precision': make_scorer(precision_score), 'Recall': make_scorer(recall_score), 'F1_score': make_scorer(f1_score)}\n",
        "logistic_c = cross_validate(classifier_model, X, y, cv=10, scoring=score)\n",
        "logistic_c"
      ],
      "metadata": {
        "id": "kaLj1khqNSEN",
        "outputId": "94a51cce-42e6-4add-8ff3-659ae04bc9f0",
        "colab": {
          "base_uri": "https://localhost:8080/"
        }
      },
      "execution_count": null,
      "outputs": [
        {
          "output_type": "execute_result",
          "data": {
            "text/plain": [
              "{'fit_time': array([0.31944776, 0.32272577, 0.54356742, 0.53087902, 0.48921061,\n",
              "        0.73289013, 0.48594832, 0.69504619, 0.67355323, 0.48411989]),\n",
              " 'score_time': array([0.0378449 , 0.0390656 , 0.04912949, 0.07081485, 0.06950569,\n",
              "        0.0759511 , 0.08021545, 0.05096269, 0.10456276, 0.08139515]),\n",
              " 'test_Accuracy': array([0.91180565, 0.90991648, 0.90971762, 0.91041363, 0.91084449,\n",
              "        0.90958505, 0.91193822, 0.90719565, 0.91087468, 0.91057638]),\n",
              " 'test_Precision': array([0.56756757, 0.5075188 , 0.50236967, 0.52516411, 0.54245283,\n",
              "        0.49775785, 0.58333333, 0.42965779, 0.53961456, 0.52811245]),\n",
              " 'test_Recall': array([0.10014674, 0.09904622, 0.07776963, 0.08804109, 0.08437271,\n",
              "        0.081438  , 0.08984232, 0.08290536, 0.09244314, 0.09647836]),\n",
              " 'test_F1_score': array([0.17025257, 0.16574586, 0.13468869, 0.15080113, 0.14603175,\n",
              "        0.13997478, 0.15570384, 0.13899139, 0.15784529, 0.16315136])}"
            ]
          },
          "metadata": {},
          "execution_count": 252
        }
      ]
    },
    {
      "cell_type": "code",
      "source": [
        "# SVM model\n",
        "from sklearn.datasets import make_blobs\n",
        "\n",
        "X_train_SVM, y_train_SVM = make_blobs(n_samples=500, centers=2,\n",
        "                  random_state=18, cluster_std=1)\n",
        "plt.scatter(X_train_SVM[:, 0], X_train_SVM[:, 1], c=y_train_SVM, s=50, cmap='Spectral');"
      ],
      "metadata": {
        "id": "c8ouxSz9yzDs",
        "colab": {
          "base_uri": "https://localhost:8080/",
          "height": 265
        },
        "outputId": "ca018dd6-a9a3-44e4-e796-92ae87480127"
      },
      "execution_count": null,
      "outputs": [
        {
          "output_type": "display_data",
          "data": {
            "text/plain": [
              "<Figure size 432x288 with 1 Axes>"
            ],
            "image/png": "[encoded data removed]"
          },
          "metadata": {
            "needs_background": "light"
          }
        }
      ]
    },
    {
      "cell_type": "code",
      "source": [
        "def plot_svc_decision_function(model, ax=None, plot_support=True):\n",
        "    \"\"\"Plot the decision function for a 2D SVC\"\"\"\n",
        "    if ax is None:\n",
        "        ax = plt.gca()\n",
        "    xlim = ax.get_xlim()\n",
        "    ylim = ax.get_ylim()\n",
        "    \n",
        "    # create grid to evaluate model\n",
        "    x = np.linspace(xlim[0], xlim[1], 30)\n",
        "    y = np.linspace(ylim[0], ylim[1], 30)\n",
        "    Y, X = np.meshgrid(y, x)\n",
        "    xy = np.vstack([X.ravel(), Y.ravel()]).T\n",
        "    P = model.decision_function(xy).reshape(X.shape)\n",
        "    \n",
        "    # plot decision boundary and margins\n",
        "    ax.contour(X, Y, P, colors='k',\n",
        "               levels=[-1, 0, 1], alpha=0.5,\n",
        "               linestyles=['--', '-', '--'])\n",
        "    \n",
        "    # plot support vectors\n",
        "    if plot_support:\n",
        "        ax.scatter(model.support_vectors_[:, 0],\n",
        "                   model.support_vectors_[:, 1],\n",
        "                   s=300, linewidth=1, facecolors='none');\n",
        "    ax.set_xlim(xlim)\n",
        "    ax.set_ylim(ylim)"
      ],
      "metadata": {
        "id": "ZBX4SedtIXHp"
      },
      "execution_count": null,
      "outputs": []
    },
    {
      "cell_type": "code",
      "source": [
        "from sklearn.svm import SVC\n",
        "# Define and Fit your Model\n",
        "model = SVC(kernel='linear', C=1000)\n",
        "model.fit(X_train_SVM, y_train_SVM)\n",
        "\n",
        "# Plot the Data and the Decision Boundary\n",
        "plt.scatter(X_train_SVM[:, 0], X_train_SVM[:, 1], c=y_train_SVM, s=50, cmap='Spectral');\n",
        "plot_svc_decision_function(model);"
      ],
      "metadata": {
        "colab": {
          "base_uri": "https://localhost:8080/",
          "height": 265
        },
        "id": "rIfNaPWBI5iS",
        "outputId": "1d5cc933-4581-4b5a-8e88-8f57ff2629d1"
      },
      "execution_count": null,
      "outputs": [
        {
          "output_type": "display_data",
          "data": {
            "text/plain": [
              "<Figure size 432x288 with 1 Axes>"
            ],
            "image/png": "[encoded data removed]"
          },
          "metadata": {
            "needs_background": "light"
          }
        }
      ]
    },
    {
      "cell_type": "code",
      "source": [
        "# SHould be edited later\n",
        "fig, ax = plt.subplots(1, 2, figsize=(16, 6))\n",
        "fig.subplots_adjust(left=0.0625, right=0.95, wspace=0.1)\n",
        "test_acc = []\n",
        "test_f1 = []\n",
        "test_recall = []\n",
        "test_precision = []\n",
        "\n",
        "for axi, C in zip(ax, [10.0, 0.1]):\n",
        "    # Define your model\n",
        "    model = SVC(kernel='linear', C=C)\n",
        "    model.fit(X_train, y_train)\n",
        "    \n",
        "    # Calculate and append Accuracy\n",
        "    y_pred = model.predict(X_test)\n",
        "    accuracy = accuracy_score(y_test, y_pred)\n",
        "    f1 = f1_score(y_test, y_pred)\n",
        "    recall = recall_score(y_test, y_pred)\n",
        "    precision = precision_score(y_test, y_pred)\n",
        "    test_acc.append(accuracy)\n",
        "    test_f1.append(f1)\n",
        "    test_recall.append(recall)\n",
        "    test_precision.append(precision)\n",
        "    \n",
        "    # Plotting\n",
        "    plot_svc_decision_function(model, ax=axi)\n",
        "    axi.scatter(model.support_vectors_[:, 0], model.support_vectors_[:, 1], s=300, linewidth=1, facecolors='none')\n",
        "    axi.set_title('C = {0:.1f}'.format(C), size=14)\n",
        "print(test_acc)\n",
        "print(test_f1)\n",
        "print(test_recall)\n",
        "print(test_precision)"
      ],
      "metadata": {
        "id": "KKRBEPq6NCnh"
      },
      "execution_count": null,
      "outputs": []
    },
    {
      "cell_type": "markdown",
      "metadata": {
        "id": "o9W-A00B8dID"
      },
      "source": [
        "# Ethics & Privacy"
      ]
    },
    {
      "cell_type": "markdown",
      "metadata": {
        "id": "DOb1a2_38dIE"
      },
      "source": [
        "There is no significant privacy issue here because the names and social security numbers of the patients were removed from the database. Ethical concern: this dataset is conducted by the CDC using telephone surveys, and their targets are the U.S. residents. Therefore, these databases cannot represent potential patients all over the world. Therefore, it is possible to be subject to a collection bias. We will address this issue by clearly stating the sources and informing the audience that this research can only be a reference instead of an authority.\n"
      ]
    },
    {
      "cell_type": "markdown",
      "metadata": {
        "id": "aGth4F2-8dIE"
      },
      "source": [
        "# Team Expectations "
      ]
    },
    {
      "cell_type": "markdown",
      "metadata": {
        "id": "KqsbHIbm8dIE"
      },
      "source": [
        "* We will write the accompanying text throughout the project to explain each section.\n",
        "* We will make decisions based on every group members’ will.\n",
        "* We will schedule weekly meetings via Zoom throughout this quarter to discuss our project.\n",
        "* We will respect each other’s opinions and make contributions to our project together.\n",
        "* We will set deadlines to accomplish each goal for our project."
      ]
    },
    {
      "cell_type": "markdown",
      "metadata": {
        "id": "Gvd0lXk38dIE"
      },
      "source": [
        "# Project Timeline Proposal"
      ]
    },
    {
      "cell_type": "markdown",
      "metadata": {
        "id": "FqmM5J_Y8dIE"
      },
      "source": [
        "\n",
        "\n",
        "| Meeting Date  | Meeting Time| Completed Before Meeting  | Discuss at Meeting |\n",
        "|---|---|---|---|\n",
        "| 2/1  |  3 PM |  Read & Think about COGS 118A expectations; brainstorm topics/questions  | Determine best form of communication; Discuss and decide on final project topic; discuss hypothesis; begin background research | \n",
        "| 2/8  |  1 PM |  Do background research on topic  | Discuss ideal dataset(s) and ethics; draft project proposal | \n",
        "| 2/22  | Before 11:59 PM  | Edit, finalize, and submit proposal; Search for datasets  | Discuss Wrangling and possible analytical approaches; Assign group members to lead each specific part   |\n",
        "| 2/26  | 1 PM  | Import & Wrangle Data  | Review/Edit wrangling/EDA; Discuss Analysis Plan   |\n",
        "| 3/10  | 12 PM  | Finalize wrangling/EDA; Begin analysis using Machine Learing Algorithm | Discuss/edit project code; Complete project |\n",
        "| 3/17  | 12 PM  | Complete analysis; Draft results/conclusion/discussion| Discuss/edit full project |\n",
        "| 3/22  | Before 11:59 PM  | NA | Turn in Final Project  |"
      ]
    },
    {
      "cell_type": "markdown",
      "metadata": {
        "id": "RqQr514X8dIE"
      },
      "source": [
        "# Footnotes\n",
        "<a name=\"lorenznote\"></a>1.[^](#lorenz): “Cardiovascular Diseases.” World Health Organization, World Health Organization, https://www.who.int/health-topics/cardiovascular-diseases. <br> \n",
        "<a name=\"admonishnote\"></a>2.[^](#admonish): Heart Disease Prediction Using Machine Learning Algorithms - Iopscience. https://iopscience.iop.org/article/10.1088/1757-899X/1022/1/012072/meta. <br>\n",
        "<a name=\"sotanote\"></a>3.[^](#sota): Pal, Madhumita, et al. “Risk Prediction of Cardiovascular Disease Using Machine Learning Classifiers.” Open Medicine (Warsaw, Poland), U.S. National Library of Medicine, 17 June 2022, https://www.ncbi.nlm.nih.gov/pmc/articles/PMC9206502/. \n"
      ]
    }
  ],
  "metadata": {
    "kernelspec": {
      "display_name": "Python 3",
      "language": "python",
      "name": "python3"
    },
    "language_info": {
      "codemirror_mode": {
        "name": "ipython",
        "version": 3
      },
      "file_extension": ".py",
      "mimetype": "text/x-python",
      "name": "python",
      "nbconvert_exporter": "python",
      "pygments_lexer": "ipython3",
      "version": "3.8.8"
    },
    "colab": {
      "provenance": []
    }
  },
  "nbformat": 4,
  "nbformat_minor": 0
}