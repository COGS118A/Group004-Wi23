{
  "cells": [
    {
      "cell_type": "markdown",
      "metadata": {
        "id": "yrMMgYKYiIWX"
      },
      "source": [
        "# COGS 118A- Project Proposal"
      ]
    },
    {
      "cell_type": "markdown",
      "metadata": {
        "id": "JD8AvaCLiIWm"
      },
      "source": [
        "# Project Description\n",
        "\n",
        "You will design and execute a machine learning project. There are a few constraints on the nature of the allowed project. \n",
        "- The problem addressed will not be a \"toy problem\" or \"common training students problem\" like mtcars, iris, palmer penguins etc.\n",
        "- The dataset will have >1k observations and >5 variables. I'd prefer more like >10k observations and >10 variables. A general rule is that if you have >100x more observations than variables, your solution will likely generalize a lot better. The goal of training a supervised machine learning model is to learn the underlying pattern in a dataset in order to generalize well to unseen data, so choosing a large dataset is very important.\n",
        "\n",
        "- The project will include a model selection and/or feature selection component where you will be looking for the best setup to maximize the performance of your ML system.\n",
        "- You will evaluate the performance of your ML system using more than one appropriate metric\n",
        "- You will be writing a report describing and discussing these accomplishments\n",
        "\n",
        "\n",
        "Feel free to delete this description section when you hand in your proposal."
      ]
    },
    {
      "cell_type": "markdown",
      "metadata": {
        "id": "ekOJQooliIWs"
      },
      "source": [
        "### Peer Review\n",
        "\n",
        "You will all have an opportunity to look at the Project Proposals of other groups to fuel your creativity and get more ideas for how you can improve your own projects. \n",
        "\n",
        "Both the project proposal and project checkpoint will have peer review."
      ]
    },
    {
      "cell_type": "markdown",
      "metadata": {
        "id": "kPGfseOAiIWu"
      },
      "source": [
        "# Names\n",
        "\n",
        "Hopefully your team is at least this good. Obviously you should replace these with your names.\n",
        "\n",
        "- Zirui Lin\n",
        "- Ruoxin Li\n",
        "- Yunhan Xiao\n",
        "- Yongxi Liang\n",
        "- Ruoqian Huang\n"
      ]
    },
    {
      "cell_type": "markdown",
      "metadata": {
        "id": "jlaeHewwiIWx"
      },
      "source": [
        "# Abstract \n",
        "Disease prediction has always been a critical and never-ending problem for the medical field - we will always need to be more precise in diagnosing diseases. Automated learning algorithms may help doctors alleviate some of the hassles. The main goal of this study was to determine the probability of a new patient developing heart disease based on existing data on heart disease characteristics. After preprocessing the data, we plan to train the computer using different machine learning methods (e.g., decision tree/logistic regression models vs. support vector classifiers, etc.) Our aim is for the model to successfully determine a heart attack (disease or not) in a subject when faced with a new set of data. We will quantify the performance of the models using various error metrics (e.g., precision, recall) for the results obtained - more importantly, due to the inherent sensitivity of heart disease, we will choose the best model according to the reality of the situation (e.g., we need to ensure the lowest non-detection rate) or we can replace/add new models as the project progresses / add new models.\n"
      ]
    },
    {
      "cell_type": "markdown",
      "metadata": {
        "id": "VjB07T-ViIXY"
      },
      "source": [
        "# Background\n",
        "\n",
        "Heart disease mainly refers to various diseases that occur in the heart and the surrounding vascular system, such as coronary heart disease, hypertension, cardiomyopathy, etc. These diseases have had a serious impact on health and longevity worldwide, and their morbidity and mortality rates have been increasing over the past few decades. With an aging population, unhealthy lifestyles and changing dietary habits, the incidence of heart disease has shown an increasing trend. According to the World Health Organization (WHO)<a name=\"lorenznote\"></a>[<sup>[1]</sup>](#lorenz), heart disease is one of the leading causes of death worldwide, killing approximately 18 million people each year. It is predicted that by 2035, heart disease will become one of the major global disease burdens, posing a serious threat to global public health.<br>\n",
        "\n",
        "Heart disease remains an extremely complex disease whose etiology is influenced by a combination of many factors, such as genetics, environment, and lifestyle. In addition, new risk factors have been identified in recent years, such as air pollution and mental stress. All of these factors may contribute to the development and aggravation of heart disease, thus increasing mortality. With the continuous advancement of technological techniques and methods in today's society, researchers can now study the pathogenesis and treatment of heart disease in greater depth through automated learning algorithms<a name=\"admonish\"></a>[<sup>[2]</sup>](#admonishnote). Automatic learning algorithms are a new technology that can automatically learn and analyze from large amounts of data and use it for prediction and judgment. In predicting heart disease, they can learn and build prediction models from clinical information of heart disease patients, which can be very helpful for doctors to more accurately understand the risk level of patients and develop effective treatment plans. Moreover, by training a large number of clinical data from heart disease patients, features and patterns are extracted and prediction models are built. This allows us to predict the risk of heart disease in patients and to develop individualized treatment plans for patients based on the prediction results.<br>\n",
        "\n",
        "In conclusion, heart disease has seriously affected global health problems and requires the concerted efforts of medical researchers worldwide. Therefore, in-depth research of the causative factors and treatments of heart disease, and the search for powerful treatments and effective preventive measures can make an important contribution to reducing the incidence and mortality of heart disease.\n",
        "\n",
        "\n",
        "\n"
      ]
    },
    {
      "cell_type": "markdown",
      "metadata": {
        "id": "KQIgAaTGiIXf"
      },
      "source": [
        "# Problem Statement\n",
        "\n",
        "We aim to utilize machine learning algorithms for analyzing the current datasets, and train a predictive model that is most suitable to improve the accuracy of heart disease diagnosis based on the patient's various health indicators. "
      ]
    },
    {
      "cell_type": "markdown",
      "metadata": {
        "id": "f93CNnOOiIXh"
      },
      "source": [
        "# Data\n",
        "\n",
        "**Heart Disease Dataset 1:** <br>\n",
        "https://www.kaggle.com/datasets/johnsmith88/heart-disease-dataset<br>\n",
        "1025 observations of patients data with 13 variables<br>\n",
        "critical variables :\n",
        "- Age\n",
        "- Sex\n",
        "- Chest pain type (4 values)\n",
        "- Resting blood pressure\n",
        "- Serum cholesterol in mg\\dl\n",
        "- Fasting blood sugar >120mg\\dl\n",
        "- Resting electrocardiographic results (values 0,1,2)\n",
        "- Maximum heart rate achieved\n",
        "- Exercise included angina\n",
        "- oldpeak=ST depression included by exercise relative to rest\n",
        "- The slope of the peak exercise ST segment number \n",
        "- Number of major vessels (0-3)\n",
        "- Thalassemia (0=normal, 1=fixed defect, 2=reversible defect)\n",
        "The last column of this dataset contains information about whether or not the patient has heart disease, and this piece of information will be useful for developing our prediction model.<br>\n",
        "\n",
        "\n",
        "\n",
        "\n",
        "\n",
        "\n",
        "**Heart Disease dataset 2:**<br>\n",
        "https://www.kaggle.com/datasets/kamilpytlak/personal-key-indicators-of-heart-disease<br>\n",
        "320k observations with 10 variables<br>\n",
        "Critical variables:\n",
        "- HeartDisease\n",
        "- BMI\n",
        "- Smoking\n",
        "- Alcohol Drinking\n",
        "- Stroke\n",
        "- Physical Health\n",
        "- Mental Health\n",
        "- Difficulty walking (climbing stairs)\n",
        "- Sex\n",
        "This dataset was from 2020 annual CDC survey data of adults related to their health status.\n"
      ]
    },
    {
      "cell_type": "markdown",
      "metadata": {
        "id": "QSzoPQ25iIXj"
      },
      "source": [
        "# Proposed Solution\n",
        "\n",
        "Like several methods mentioned above, we believe that the main performance of this algorithm is ultimately based on a large amount of data, so we need to be sure to use an effective and robust database and collect as much data as possible to analyze and test the model. For the main algorithms we would choose to use Confusion Matrix, Logistic Regression, and SVM, in addition to feature selection, which can improve the performance of the model very well."
      ]
    },
    {
      "cell_type": "markdown",
      "metadata": {
        "id": "0adX6E60iIXm"
      },
      "source": [
        "# Evaluation Metrics\n",
        "\n",
        "We are going to use several classification metrics such as precision and recall to assess the validity of our model. Precision = TP / (TP + FP). A higher precision value means we can correctly identify a larger proportion of positive predictions among all positive predictions. Recall = TP / (TP + FN). A higher recall value means we can correctly identify a larger proportion of positive cases in the dataset. Thus, we are better at identifying patients who actually have heart disease, and we are less likely to miss patients who require further diagnosis and treatments. We can also calculate the Fl score from precision and recall to find a good balance between these metrics.\n"
      ]
    },
    {
      "cell_type": "markdown",
      "metadata": {
        "id": "7bRQkfN5iIXn"
      },
      "source": [
        "# Ethics & Privacy"
      ]
    },
    {
      "cell_type": "markdown",
      "metadata": {
        "id": "sOIixxhgiIXo"
      },
      "source": [
        "There is no significant privacy issue here because the names and social security numbers of the patients were removed from the database, replaced with dummy values. An ethical concern can be that since the dataset does not discuss the collection process, we are not sure about how the samples are selected. Also, it consists of 4 databases: Cleveland, Hungary, Switzerland, and Long Beach V. These databases cannot represent potential patients all over the world. Therefore, it is possible to be subject to a collection bias. We will address this issue by clearly stating the sources and informing the audience that this research can only be a reference instead of an authority.\n"
      ]
    },
    {
      "cell_type": "markdown",
      "metadata": {
        "id": "Yo0yxS63iIXs"
      },
      "source": [
        "# Team Expectations "
      ]
    },
    {
      "cell_type": "markdown",
      "metadata": {
        "id": "8NDMS1vkiIXu"
      },
      "source": [
        "* We will write the accompanying text throughout the project to explain each section.\n",
        "* We will make decisions based on every group members’ will.\n",
        "* We will schedule weekly meetings via Zoom throughout this quarter to discuss our project.\n",
        "* We will respect each other’s opinions and make contributions to our project together.\n",
        "* We will set deadlines to accomplish each goal for our project.\n"
      ]
    },
    {
      "cell_type": "markdown",
      "metadata": {
        "id": "2y09AbSiiIXv"
      },
      "source": [
        "# Project Timeline Proposal"
      ]
    },
    {
      "cell_type": "markdown",
      "metadata": {
        "id": "OkOtka1HiIXw"
      },
      "source": [
        "\n",
        "| Meeting Date  | Meeting Time| Completed Before Meeting  | Discuss at Meeting |\n",
        "|---|---|---|---|\n",
        "| 2/1  |  3 PM |  Read & Think about COGS 118A expectations; brainstorm topics/questions  | Determine best form of communication; Discuss and decide on final project topic; discuss hypothesis; begin background research | \n",
        "| 2/8  |  1 PM |  Do background research on topic | Discuss ideal dataset(s) and ethics; draft project proposal | \n",
        "| 2/22  | Before 11:59 PM  | Edit, finalize, and submit proposal; Search for datasets (Beckenbaur)  | Discuss Wrangling and possible analytical approaches; Assign group members to lead each specific part   |\n",
        "| 2/26  | 1 PM  | Import & Wrangle Data | Review/Edit wrangling/EDA; Discuss Analysis Plan   |\n",
        "| 3/10  | 12 PM  | Finalize wrangling/EDA; Begin Analysis using Machine Learning Algorithm | Discuss/edit project code; Complete project |\n",
        "| 3/17  | 12 PM  | Complete analysis; Draft results/conclusion/discussion| Discuss/edit full project |\n",
        "| 3/22  | Before 11:59 PM  | NA | Turn in Final Project  |"
      ]
    },
    {
      "cell_type": "markdown",
      "metadata": {
        "id": "jr5m2In7iIXy"
      },
      "source": [
        "# Footnotes\n",
        "<a name=\"lorenznote\"></a>1.[^](#lorenz): “Cardiovascular Diseases.” World Health Organization, World Health Organization, https://www.who.int/health-topics/cardiovascular-diseases. <br> \n",
        "<a name=\"admonishnote\"></a>2.[^](#admonish): Heart Disease Prediction Using Machine Learning Algorithms - Iopscience. https://iopscience.iop.org/article/10.1088/1757-899X/1022/1/012072/meta. <br>\n"
      ]
    }
  ],
  "metadata": {
    "kernelspec": {
      "display_name": "Python 3",
      "language": "python",
      "name": "python3"
    },
    "language_info": {
      "codemirror_mode": {
        "name": "ipython",
        "version": 3
      },
      "file_extension": ".py",
      "mimetype": "text/x-python",
      "name": "python",
      "nbconvert_exporter": "python",
      "pygments_lexer": "ipython3",
      "version": "3.8.8"
    },
    "colab": {
      "provenance": []
    }
  },
  "nbformat": 4,
  "nbformat_minor": 0
}